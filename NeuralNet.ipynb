{
 "cells": [
  {
   "cell_type": "markdown",
   "metadata": {},
   "source": [
    "# NeuralNet Implementation Test on Mnist Dataset"
   ]
  },
  {
   "cell_type": "code",
   "execution_count": 1,
   "metadata": {},
   "outputs": [],
   "source": [
    "import numpy as np\n",
    "from matplotlib import pyplot as plt\n",
    "from NeuralNet import NeuralNet"
   ]
  },
  {
   "cell_type": "code",
   "execution_count": 2,
   "metadata": {},
   "outputs": [
    {
     "name": "stderr",
     "output_type": "stream",
     "text": [
      "Using TensorFlow backend.\n"
     ]
    }
   ],
   "source": [
    "from keras.datasets import mnist "
   ]
  },
  {
   "cell_type": "code",
   "execution_count": 3,
   "metadata": {},
   "outputs": [],
   "source": [
    "train_data, test_data = mnist.load_data()\n",
    "\n",
    "X_train_orig, y_train_orig = train_data\n",
    "X_test_orig, y_test_orig = test_data\n",
    "\n",
    "X_train, X_test = X_train_orig / 255, X_test_orig / 255"
   ]
  },
  {
   "cell_type": "code",
   "execution_count": 25,
   "metadata": {},
   "outputs": [],
   "source": [
    "X = np.array([[0, 0], [0, 1], [1, 0], [1, 1]])\n",
    "y = np.array([0, 1, 1, 0])\n",
    "\n",
    "model = NeuralNet(nn_type = 'sigmoid_classifier', hidden_layer_sizes=(5, 5, 5, ), activation = 'relu')"
   ]
  },
  {
   "cell_type": "code",
   "execution_count": 26,
   "metadata": {},
   "outputs": [
    {
     "name": "stdout",
     "output_type": "stream",
     "text": [
      "iteration 0, avg_cross_entropy = 1.0853298716872917\n",
      "iteration 1, avg_cross_entropy = 1.0832831734169006\n",
      "iteration 2, avg_cross_entropy = 1.0812455957406741\n",
      "iteration 3, avg_cross_entropy = 1.079217091132739\n",
      "iteration 4, avg_cross_entropy = 1.0771976122688853\n",
      "iteration 5, avg_cross_entropy = 1.075187112026183\n",
      "iteration 6, avg_cross_entropy = 1.0731855434826008\n",
      "iteration 7, avg_cross_entropy = 1.0711928599166345\n",
      "iteration 8, avg_cross_entropy = 1.0692090148069346\n",
      "iteration 9, avg_cross_entropy = 1.0672339618319444\n",
      "iteration 10, avg_cross_entropy = 1.065267654869534\n",
      "iteration 11, avg_cross_entropy = 1.063310047996648\n",
      "iteration 12, avg_cross_entropy = 1.0613610954889479\n",
      "iteration 13, avg_cross_entropy = 1.0594207518204635\n",
      "iteration 14, avg_cross_entropy = 1.0574889716632416\n",
      "iteration 15, avg_cross_entropy = 1.0555657098870068\n",
      "iteration 16, avg_cross_entropy = 1.0536509215588117\n",
      "iteration 17, avg_cross_entropy = 1.051744561942701\n",
      "iteration 18, avg_cross_entropy = 1.0498465864993713\n",
      "iteration 19, avg_cross_entropy = 1.0479569508858344\n",
      "iteration 20, avg_cross_entropy = 1.0461084050680327\n",
      "iteration 21, avg_cross_entropy = 1.0443562554043195\n",
      "iteration 22, avg_cross_entropy = 1.0426118561574116\n",
      "iteration 23, avg_cross_entropy = 1.0408751640749605\n",
      "iteration 24, avg_cross_entropy = 1.0391461361335017\n",
      "iteration 25, avg_cross_entropy = 1.0374247295375607\n",
      "iteration 26, avg_cross_entropy = 1.0357109017187611\n",
      "iteration 27, avg_cross_entropy = 1.0340046103349367\n",
      "iteration 28, avg_cross_entropy = 1.032305813269243\n",
      "iteration 29, avg_cross_entropy = 1.030614468629274\n",
      "iteration 30, avg_cross_entropy = 1.0289305347461792\n",
      "iteration 31, avg_cross_entropy = 1.0272539701737826\n",
      "iteration 32, avg_cross_entropy = 1.0255847336877069\n",
      "iteration 33, avg_cross_entropy = 1.0239227842844918\n",
      "iteration 34, avg_cross_entropy = 1.0222680811807248\n",
      "iteration 35, avg_cross_entropy = 1.0206205838121654\n",
      "iteration 36, avg_cross_entropy = 1.0189802518328739\n",
      "iteration 37, avg_cross_entropy = 1.0173470451143438\n",
      "iteration 38, avg_cross_entropy = 1.0157209237446319\n",
      "iteration 39, avg_cross_entropy = 1.0141018480274926\n",
      "iteration 40, avg_cross_entropy = 1.0124897784815141\n",
      "iteration 41, avg_cross_entropy = 1.0108846758392536\n",
      "iteration 42, avg_cross_entropy = 1.0092865010463772\n",
      "iteration 43, avg_cross_entropy = 1.0076952152607968\n",
      "iteration 44, avg_cross_entropy = 1.0061107798518139\n",
      "iteration 45, avg_cross_entropy = 1.0045331563992592\n",
      "iteration 46, avg_cross_entropy = 1.0029623066926376\n",
      "iteration 47, avg_cross_entropy = 1.0013981927302718\n",
      "iteration 48, avg_cross_entropy = 0.9998407767184492\n",
      "iteration 49, avg_cross_entropy = 0.998290021070567\n",
      "iteration 50, avg_cross_entropy = 0.9967458884062826\n",
      "iteration 51, avg_cross_entropy = 0.9952083415506616\n",
      "iteration 52, avg_cross_entropy = 0.9936773435333269\n",
      "iteration 53, avg_cross_entropy = 0.9921528575876128\n",
      "iteration 54, avg_cross_entropy = 0.9906348471497142\n",
      "iteration 55, avg_cross_entropy = 0.989123275857843\n",
      "iteration 56, avg_cross_entropy = 0.9876181075513809\n",
      "iteration 57, avg_cross_entropy = 0.9861193062700339\n",
      "iteration 58, avg_cross_entropy = 0.9846268362529911\n",
      "iteration 59, avg_cross_entropy = 0.9831406619380798\n",
      "iteration 60, avg_cross_entropy = 0.9816607479609245\n",
      "iteration 61, avg_cross_entropy = 0.9801870591541066\n",
      "iteration 62, avg_cross_entropy = 0.9787195605463243\n",
      "iteration 63, avg_cross_entropy = 0.9772582173615527\n",
      "iteration 64, avg_cross_entropy = 0.9758029950182063\n",
      "iteration 65, avg_cross_entropy = 0.9743538591283034\n",
      "iteration 66, avg_cross_entropy = 0.9729107754966273\n",
      "iteration 67, avg_cross_entropy = 0.9714737101198923\n",
      "iteration 68, avg_cross_entropy = 0.9700426291859097\n",
      "iteration 69, avg_cross_entropy = 0.9686174990727532\n",
      "iteration 70, avg_cross_entropy = 0.9671982863479271\n",
      "iteration 71, avg_cross_entropy = 0.9657849577675349\n",
      "iteration 72, avg_cross_entropy = 0.964377480275447\n",
      "iteration 73, avg_cross_entropy = 0.9629758210024735\n",
      "iteration 74, avg_cross_entropy = 0.9615799472655315\n",
      "iteration 75, avg_cross_entropy = 0.9601898265668212\n",
      "iteration 76, avg_cross_entropy = 0.9588054265929963\n",
      "iteration 77, avg_cross_entropy = 0.9574267152143388\n",
      "iteration 78, avg_cross_entropy = 0.9560536604839331\n",
      "iteration 79, avg_cross_entropy = 0.9546862306368433\n",
      "iteration 80, avg_cross_entropy = 0.9533243940892893\n",
      "iteration 81, avg_cross_entropy = 0.9519681194378229\n",
      "iteration 82, avg_cross_entropy = 0.9506173754585107\n",
      "iteration 83, avg_cross_entropy = 0.94927213110611\n",
      "iteration 84, avg_cross_entropy = 0.9479323555132523\n",
      "iteration 85, avg_cross_entropy = 0.9465980179896234\n",
      "iteration 86, avg_cross_entropy = 0.9452690880211481\n",
      "iteration 87, avg_cross_entropy = 0.9439455352691732\n",
      "iteration 88, avg_cross_entropy = 0.9426273295696539\n",
      "iteration 89, avg_cross_entropy = 0.941314440932338\n",
      "iteration 90, avg_cross_entropy = 0.9400068395399557\n",
      "iteration 91, avg_cross_entropy = 0.938704495747408\n",
      "iteration 92, avg_cross_entropy = 0.9374073800809546\n",
      "iteration 93, avg_cross_entropy = 0.9361154632374067\n",
      "iteration 94, avg_cross_entropy = 0.9348287160833193\n",
      "iteration 95, avg_cross_entropy = 0.933547109654183\n",
      "iteration 96, avg_cross_entropy = 0.9322706151536211\n",
      "iteration 97, avg_cross_entropy = 0.9309992039525841\n",
      "iteration 98, avg_cross_entropy = 0.9297328475885465\n",
      "iteration 99, avg_cross_entropy = 0.9284715177647063\n",
      "last iteration, avg_cross_entropy = 0.9272151863491864\n",
      "Failure to converge! final avg_cross_entropy = 0.9272151863491864\n"
     ]
    },
    {
     "data": {
      "text/plain": [
       "<NeuralNet.NeuralNet at 0x7f8ae410dc70>"
      ]
     },
     "execution_count": 26,
     "metadata": {},
     "output_type": "execute_result"
    }
   ],
   "source": [
    "model.fit(X, y, verbose = True, learning_rate = 1e-3, regularization_rate = 0, tol = 0, max_iter = 100, batch_size = 4)"
   ]
  },
  {
   "cell_type": "code",
   "execution_count": null,
   "metadata": {},
   "outputs": [],
   "source": [
    "model.predic"
   ]
  }
 ],
 "metadata": {
  "kernelspec": {
   "display_name": "Python 3.8.2 64-bit",
   "language": "python",
   "name": "python38264bit7c77d187836444a78fb7637a72a6d6ba"
  },
  "language_info": {
   "codemirror_mode": {
    "name": "ipython",
    "version": 3
   },
   "file_extension": ".py",
   "mimetype": "text/x-python",
   "name": "python",
   "nbconvert_exporter": "python",
   "pygments_lexer": "ipython3",
   "version": "3.8.2"
  }
 },
 "nbformat": 4,
 "nbformat_minor": 4
}

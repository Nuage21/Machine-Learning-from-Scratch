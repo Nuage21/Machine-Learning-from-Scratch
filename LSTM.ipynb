{
 "cells": [
  {
   "cell_type": "markdown",
   "metadata": {},
   "source": [
    "# Dinosaur Names Generator with LSTMs "
   ]
  },
  {
   "cell_type": "markdown",
   "metadata": {},
   "source": [
    "First let's import the libraries we'll use:"
   ]
  },
  {
   "cell_type": "code",
   "execution_count": null,
   "metadata": {},
   "outputs": [],
   "source": [
    "import tensorflow as tf\n",
    "from tensorflow import keras\n",
    "import pandas as pd\n",
    "import numpy as np"
   ]
  },
  {
   "cell_type": "code",
   "execution_count": 7,
   "metadata": {},
   "outputs": [
    {
     "name": "stdout",
     "output_type": "stream",
     "text": [
      "aachenosaurus\n",
      "aardonyx\n",
      "abelisaurus\n",
      "abrictosaurus\n",
      "abrosaurus\n",
      "abydosaurus\n",
      "acantholipan\n",
      "acanthopholis\n",
      "\n"
     ]
    }
   ],
   "source": [
    "dino_file = open('dino.txt', 'r')\n",
    "dinos = dino_file.read()\n",
    "dino_file.close()\n",
    "print(dinos[:99])"
   ]
  },
  {
   "cell_type": "markdown",
   "metadata": {},
   "source": [
    "## Data Preprocessing:"
   ]
  },
  {
   "cell_type": "code",
   "execution_count": 10,
   "metadata": {},
   "outputs": [
    {
     "name": "stdout",
     "output_type": "stream",
     "text": [
      "['abrictosaurus', 'abrosaurus', 'abydosaurus']\n",
      "The dataset contains 1533 exemples\n"
     ]
    }
   ],
   "source": [
    "dino_list = dinos.split('\\n')\n",
    "print(dino_list[3:6])\n",
    "print(f'The dataset contains {len(dino_list)} exemples')"
   ]
  },
  {
   "cell_type": "markdown",
   "metadata": {},
   "source": [
    "We'll append each training sample with a start and end characters:"
   ]
  },
  {
   "cell_type": "code",
   "execution_count": 17,
   "metadata": {},
   "outputs": [
    {
     "name": "stdout",
     "output_type": "stream",
     "text": [
      "['~~aachenosaurus$$', '~~aardonyx$$', '~~abelisaurus$$', '~~abrictosaurus$$', '~~abrosaurus$$']\n"
     ]
    }
   ],
   "source": [
    "start_char = '~'\n",
    "end_char = '$'\n",
    "dino_list = [start_char + dino_name.lower() + end_char for dino_name in dino_list]\n",
    "print(dino_list[0:5])"
   ]
  },
  {
   "cell_type": "markdown",
   "metadata": {},
   "source": [
    "Next, we'll split dino names into charcaters to form our dataset: "
   ]
  },
  {
   "cell_type": "code",
   "execution_count": 18,
   "metadata": {},
   "outputs": [
    {
     "name": "stdout",
     "output_type": "stream",
     "text": [
      "[['~', '~', 'a', 'a', 'c', 'h', 'e', 'n', 'o', 's', 'a', 'u', 'r', 'u', 's', '$', '$'], ['~', '~', 'a', 'a', 'r', 'd', 'o', 'n', 'y', 'x', '$', '$'], ['~', '~', 'a', 'b', 'e', 'l', 'i', 's', 'a', 'u', 'r', 'u', 's', '$', '$'], ['~', '~', 'a', 'b', 'r', 'i', 'c', 't', 'o', 's', 'a', 'u', 'r', 'u', 's', '$', '$']]\n"
     ]
    }
   ],
   "source": [
    "dataset = [list(dino) for dino in dino_list]\n",
    "print(dataset[:4])"
   ]
  },
  {
   "cell_type": "markdown",
   "metadata": {},
   "source": [
    "We'll feed the RNN with one-hot representation of characters and to do so, we'll need to create a dictionnary mapping each char in the dataset to an integer which will be converted to a one hot later:"
   ]
  },
  {
   "cell_type": "code",
   "execution_count": 39,
   "metadata": {},
   "outputs": [
    {
     "name": "stdout",
     "output_type": "stream",
     "text": [
      "{'a': 0, 'b': 1, 'c': 2, 'd': 3, 'e': 4, 'f': 5, 'g': 6, 'h': 7, 'i': 8, 'j': 9, 'k': 10, 'l': 11, 'm': 12, 'n': 13, 'o': 14, 'p': 15, 'q': 16, 'r': 17, 's': 18, 't': 19, 'u': 20, 'v': 21, 'w': 22, 'x': 23, 'y': 24, 'z': 25, '~': 26, '$': 27}\n"
     ]
    }
   ],
   "source": [
    "char_to_int = {chr(x): x - ord('a') for x in range(ord('a'), ord('z') + 1)}\n",
    "char_to_int[start_char] = 26\n",
    "char_to_int[end_char] = 27\n",
    "print(char_to_int)"
   ]
  },
  {
   "cell_type": "markdown",
   "metadata": {},
   "source": [
    "Now let's get the inverted dictionnay:"
   ]
  },
  {
   "cell_type": "code",
   "execution_count": 38,
   "metadata": {},
   "outputs": [
    {
     "name": "stdout",
     "output_type": "stream",
     "text": [
      "{0: 'a', 1: 'b', 2: 'c', 3: 'd', 4: 'e', 5: 'f', 6: 'g', 7: 'h', 8: 'i', 9: 'j', 10: 'k', 11: 'l', 12: 'm', 13: 'n', 14: 'o', 15: 'p', 16: 'q', 17: 'r', 18: 's', 19: 't', 20: 'u', 21: 'v', 22: 'w', 23: 'x', 24: 'y', 25: 'z', 26: '~', 27: '$'}\n"
     ]
    }
   ],
   "source": [
    "int_to_char = {v: k for k, v in char_to_int.items()}\n",
    "print(int_to_char)"
   ]
  },
  {
   "cell_type": "code",
   "execution_count": null,
   "metadata": {},
   "outputs": [],
   "source": []
  }
 ],
 "metadata": {
  "kernelspec": {
   "display_name": "Python 3",
   "language": "python",
   "name": "python3"
  },
  "language_info": {
   "codemirror_mode": {
    "name": "ipython",
    "version": 3
   },
   "file_extension": ".py",
   "mimetype": "text/x-python",
   "name": "python",
   "nbconvert_exporter": "python",
   "pygments_lexer": "ipython3",
   "version": "3.8.2"
  }
 },
 "nbformat": 4,
 "nbformat_minor": 4
}

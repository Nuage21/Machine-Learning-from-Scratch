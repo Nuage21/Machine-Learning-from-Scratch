{
 "cells": [
  {
   "cell_type": "markdown",
   "metadata": {},
   "source": [
    "# Neural Machine Translation with Bidirectional Encoder-Decoder LSTMs:"
   ]
  },
  {
   "cell_type": "code",
   "execution_count": 1,
   "metadata": {},
   "outputs": [],
   "source": [
    "import tensorflow as tf\n",
    "from tensorflow import keras\n",
    "import pandas as pd\n",
    "import numpy as np"
   ]
  },
  {
   "cell_type": "code",
   "execution_count": 2,
   "metadata": {},
   "outputs": [],
   "source": [
    "dataset = [\n",
    "    [\"I love you\", \"je t'aime\"],\n",
    "    [\"What is your name ?\", \"Comment tu t'appele ?\"],\n",
    "    [\"How old are you\", \"Quel age as tu\"],\n",
    "    [\"why is the world so dumb\", \"pourquoi le monde est si idiot\"],\n",
    "    [\"I found the dog\", \"j'ai trouve le chien\"],\n",
    "    [\"He died\", \"Il est mort\"],\n",
    "    [\"I kissed him\", \"Je l'ai embrasse\"],\n",
    "    [\"New-York is a beautiful city\", \"New-York est une belle ville\"],\n",
    "    [\"what are you doing\", \"Que ce que tu fait\"],\n",
    "    [\"I lost hope\", \"J'ai perdu l'espoir\"],\n",
    "    [\"Donald Trump is the worst president\", \"Donald Trump est le pire president\"],\n",
    "    [\"Do you feel bad\", \"Tu te sens mauvais\"],\n",
    "    [\"I found an apple at my desk\", \"J'ai trouve une pomme sur mon bureau\"],\n",
    "    [\"You broke the mug\", \"T'as casse le mug\"],\n",
    "    [\"Do you hate me ?\", \"Tu me deteste ?\"]\n",
    "]"
   ]
  },
  {
   "cell_type": "markdown",
   "metadata": {},
   "source": [
    "# Data Preprocessing:\n",
    "---\n",
    "Before we jump in to our model, a preprocessing part is a must."
   ]
  },
  {
   "cell_type": "markdown",
   "metadata": {},
   "source": [
    "## 1. Similar Words Tokenization:\n",
    "There's no gain in having 3 word vectors for New-York, Havana and Tokyo, they're all city names, the same for America, Germany and Russia being country names. The dataset would be huge if we include training exemples for each city name and our model will learn better if all he knows about those words is their category appartenance, this way, even if we do not have a training exemple for \"I went to Tokyo\", our model having already been trained on \"I went to Paris\" will know how to translate the former.\n",
    "## 2. Sequence Begin & End Tokens:\n",
    "The Sequence Begin token and the Encoding vector are fed to the decoder to trigger translation, the end sequence token tells us when the translation is over\n",
    "## 3. Tokenization and Vocab Dictionnary\n",
    "A vocab dictionnary mapping each word to its woken and another mapping each token to its word are needed to transform our training data into a valid input and output"
   ]
  },
  {
   "cell_type": "code",
   "execution_count": 3,
   "metadata": {},
   "outputs": [],
   "source": [
    "custom_tokens = {\n",
    "    'city_token': '<city>',\n",
    "    'country_token': '<country>',\n",
    "    'person_token': '<person>'\n",
    "}\n",
    "\n",
    "custom_words = {\n",
    "    'new-york': 'city_token',\n",
    "    'tokyo': 'city_token',\n",
    "    'paris': 'city_token',\n",
    "    'donald': 'person_token',\n",
    "    'trump': 'person_token',\n",
    "    'hakim': 'person_token',\n",
    "    'andrew': 'person_token',\n",
    "    'france': 'country_token',\n",
    "    'mexico': 'country_token',\n",
    "}"
   ]
  },
  {
   "cell_type": "markdown",
   "metadata": {},
   "source": [
    "Next, we'll define some helper functions to de/tokenize words and create the vocabs:"
   ]
  },
  {
   "cell_type": "code",
   "execution_count": 28,
   "metadata": {},
   "outputs": [
    {
     "name": "stdout",
     "output_type": "stream",
     "text": [
      "{'<unknown>': 0, '<city>': 1, '<country>': 2, '<person>': 3, 'i': 4, 'love': 5, 'you': 6, 'what': 7, 'is': 8, 'your': 9, 'name': 10, '?': 11, 'how': 12, 'old': 13, 'are': 14, 'why': 15, 'the': 16, 'world': 17, 'so': 18, 'dumb': 19, 'found': 20, 'dog': 21, 'he': 22, 'died': 23, 'kissed': 24, 'him': 25, 'new-york': 26, 'a': 27, 'beautiful': 28, 'city': 29, 'doing': 30, 'lost': 31, 'hope': 32, 'donald': 33, 'trump': 34, 'worst': 35, 'president': 36, 'do': 37, 'feel': 38, 'bad': 39, 'an': 40, 'apple': 41, 'at': 42, 'my': 43, 'desk': 44, 'broke': 45, 'mug': 46, 'hate': 47, 'me': 48}\n",
      "---\n",
      "{'<unknown>': 0, '<city>': 1, '<country>': 2, '<person>': 3, 'je': 4, \"t'aime\": 5, 'comment': 6, 'tu': 7, \"t'appele\": 8, '?': 9, 'quel': 10, 'age': 11, 'as': 12, 'pourquoi': 13, 'le': 14, 'monde': 15, 'est': 16, 'si': 17, 'idiot': 18, \"j'ai\": 19, 'trouve': 20, 'chien': 21, 'il': 22, 'mort': 23, \"l'ai\": 24, 'embrasse': 25, 'new-york': 26, 'une': 27, 'belle': 28, 'ville': 29, 'que': 30, 'ce': 31, 'fait': 32, 'perdu': 33, \"l'espoir\": 34, 'donald': 35, 'trump': 36, 'pire': 37, 'president': 38, 'te': 39, 'sens': 40, 'mauvais': 41, 'pomme': 42, 'sur': 43, 'mon': 44, 'bureau': 45, \"t'as\": 46, 'casse': 47, 'mug': 48, 'me': 49, 'deteste': 50}\n",
      "---\n",
      "11\n"
     ]
    }
   ],
   "source": [
    "class TranslationVocab:\n",
    "    def __init__(self):\n",
    "        self.ov = self.generate_empty_vocab() # original_vocab\n",
    "        self.tv = self.generate_empty_vocab() # target_vocab\n",
    "        self.ov_size = len(self.ov)\n",
    "        self.tv_size = len(self.tv)\n",
    "\n",
    "    def load_from_dataset(self, dataset):\n",
    "        # dataset is a list of lists, each inner list holds 2 strings ['original', 'translation']\n",
    "        for sample in dataset:\n",
    "            original, target = sample[0], sample[1]\n",
    "\n",
    "            # loop over original phrase\n",
    "            for word in original.lower().strip().split(' '):\n",
    "                self.insert_word_to_vocab(self.ov, word, self.ov_size)\n",
    "\n",
    "            # loop over target phrase\n",
    "            for word in target.lower().strip().split(' '):\n",
    "                self.insert_word_to_vocab(self.tv, word, self.tv_size, is_target = True)\n",
    "        return self\n",
    "            \n",
    "    def get_ov_token(self, word): # get orginal-vocab token of\n",
    "        if word in self.ov:\n",
    "            return self.ov[word]\n",
    "        return self.ov['<unknown>']\n",
    "    \n",
    "    def get_tv_token(self, word): # get target-vocab token of\n",
    "        if word in self.tv:\n",
    "            return self.tv[word]\n",
    "        return self.tv['<unknown>']\n",
    "    \n",
    "    def insert_word_to_vocab(self, vocab, word, index, is_target = False):\n",
    "        if not word in vocab:\n",
    "            vocab[word] = index\n",
    "            if is_target:\n",
    "                self.tv_size += 1\n",
    "            else:\n",
    "                self.ov_size += 1\n",
    "                \n",
    "    \n",
    "    @staticmethod\n",
    "    def generate_empty_vocab(): # later to be loaded from a file\n",
    "        return {\n",
    "            '<unknown>': 0,\n",
    "            '<city>': 1,\n",
    "            '<country>': 2,\n",
    "            '<person>': 3,\n",
    "        }\n",
    "\n",
    "translation_vocab = TranslationVocab().load_from_dataset(dataset)\n",
    "print(translation_vocab.ov)\n",
    "print('---')\n",
    "print(translation_vocab.tv)\n",
    "print('---')\n",
    "print(translation_vocab.get_ov_token('?'))            \n",
    "  "
   ]
  },
  {
   "cell_type": "code",
   "execution_count": null,
   "metadata": {},
   "outputs": [],
   "source": []
  }
 ],
 "metadata": {
  "kernelspec": {
   "display_name": "Python 3",
   "language": "python",
   "name": "python3"
  },
  "language_info": {
   "codemirror_mode": {
    "name": "ipython",
    "version": 3
   },
   "file_extension": ".py",
   "mimetype": "text/x-python",
   "name": "python",
   "nbconvert_exporter": "python",
   "pygments_lexer": "ipython3",
   "version": "3.8.2"
  }
 },
 "nbformat": 4,
 "nbformat_minor": 4
}
